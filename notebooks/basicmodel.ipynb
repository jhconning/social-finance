{
 "cells": [
  {
   "cell_type": "markdown",
   "metadata": {},
   "source": [
    "---\n",
    "title: Moral hazard and limited liability\n",
    "subtitle: Credit without monitoring or intermediation\n",
    "exports:\n",
    "  - format: pdf\n",
    "    template: springer\n",
    "    output: exports/basicmodel.pdf\n",
    "abstract: |\n",
    "  A base model of moral hazard and limited liability with no monitoring nor intermediation.\n",
    "---"
   ]
  },
  {
   "cell_type": "markdown",
   "metadata": {},
   "source": [
    "This notebook describes a simple version of a two outcome model of moral hazard and limited liability, without a monitor. It demonstrates how minimum collateral requirements would vary depending on project conditions (probability of success, scope for moral hazard, etc). \n",
    "\n",
    "Skip if you are familiar with this basic model."
   ]
  },
  {
   "cell_type": "markdown",
   "metadata": {},
   "source": [
    "## No monitoring case"
   ]
  },
  {
   "cell_type": "code",
   "execution_count": 1,
   "metadata": {
    "tags": [
     "hide-input"
    ]
   },
   "outputs": [],
   "source": [
    "import numpy as np\n",
    "import matplotlib.pyplot as plt\n",
    "from ipywidgets import interact"
   ]
  },
  {
   "cell_type": "markdown",
   "metadata": {},
   "source": [
    "**Model Parameters**"
   ]
  },
  {
   "cell_type": "code",
   "execution_count": 2,
   "metadata": {},
   "outputs": [],
   "source": [
    "X = 200       #Project returns under success (=0 under failure)\n",
    "p = 0.7       #probability of success if diligent\n",
    "q = 0.5       #probability of success if non-diligent\n",
    "I = 100       #project investment \n",
    "gamma = 1     #outside lenders' cost of funds\n",
    "B = 20\n",
    "F = 0        # Fixed cost of loan\n",
    "Amax = 120\n",
    "Amin = p*B/(p-q) -(p*X - gamma*I) + F"
   ]
  },
  {
   "cell_type": "code",
   "execution_count": 3,
   "metadata": {
    "collapsed": false,
    "jupyter": {
     "outputs_hidden": false
    },
    "tags": [
     "remove-input"
    ]
   },
   "outputs": [
    {
     "name": "stdout",
     "output_type": "stream",
     "text": [
      "Expected project return 140.0\n",
      "Expected cost of funds 100\n",
      "LL rent at A=0 is  70.0\n",
      "Min collateral requirement is  30.0\n",
      "LL rent at A= Amin is 40.0\n"
     ]
    }
   ],
   "source": [
    "print('Expected project return {}'.format(p*X))\n",
    "print('Expected cost of funds {}'.format(gamma*I+F))\n",
    "print('LL rent at A=0 is {:5.1f}'.format(p*B/(p-q)))\n",
    "print('Min collateral requirement is {:5.1f}'.format(Amin))\n",
    "print('LL rent at A= Amin is {}'.format(-Amin+p*B/(p-q)))"
   ]
  },
  {
   "cell_type": "markdown",
   "metadata": {},
   "source": [
    "## Minimum collateral requirements\n",
    "Note that in this simple two outcome world, the project can either end in \"failure\" (zero output) or \"success\" (output $X$).  The contract states outcome-contingent payoffs of $(s_f, s_s) = (-A, s)$ to the entrepreneur/borrower, where $A$ represents the pledged (seizable) assets.  The bank therefore receives $(R_f, R_s) = (A, X-s)$.\n",
    "\n",
    "We will derive the minimum collateral requirement $A$ that the bank will require that a borrower provide. This is the \"skin in the game\" that the lender will require to diminish the scope for moral hazard via the terms of the contract. "
   ]
  },
  {
   "cell_type": "markdown",
   "metadata": {},
   "source": [
    "**Bank Participation constraint**:\n",
    "$$p(X - s) + (1 - p)A \\ge \\gamma I + F$$\n",
    "\n",
    "**Incentive compatibility** constraint when entrepreneur has pledgeable assets $A$:\n",
    "$$s \\ge  - A + \\frac{B}{\\Delta }$$\n",
    "\n",
    "The **limited liability** constraint is written:\n",
    "$$s \\ge - A$$\n",
    "\n",
    "In fact, a limited liability constraint must hold for each outcome state to make sure that the value of promised repayment in that state does not exceed the value of output plus any pledgeable collateral $A$.  In this two-state world, however, the constraints are $(X - s) \\le  A$ and $(0 - s) \\le  A$, but the latter will always bind first, so we need only focus on this first constraint, as re-written and stated above."
   ]
  },
  {
   "cell_type": "markdown",
   "metadata": {},
   "source": [
    "$$\n",
    "\\underbar{A} = \\frac{pB}{p-q} - (pX - \\gamma I) \n",
    "$$"
   ]
  },
  {
   "cell_type": "markdown",
   "metadata": {},
   "source": [
    "**Diagram plots**\n",
    "We want to plot the linear constraints and/or objectives lines in $s_f - s_s$ space. For example a zero profit condition:\n",
    "$$p(X-s_s)+(1-p)(0-s_f) - \\gamma I = 0$$\n",
    "\n",
    "can be rearanged to plot $s_s$ as a function of $s_f$:\n",
    "\n",
    "$$s_s = X - \\frac{\\gamma I}{p} -\\frac{1-p}{p} s_f$$\n",
    "\n",
    "\n",
    "Since we'll be illustrating things below with a variety of linear plots, we will economize on code by writing a simple 'function factory' `line_function(a,b)` that will allow us to easily create parameterized line functions.  Another `plot_contraints()` function will plot the linear participation, incentive compatibility, and limited liability constraints to identify the optimum contract and minimum collateral requirement."
   ]
  },
  {
   "cell_type": "code",
   "execution_count": 4,
   "metadata": {
    "collapsed": false,
    "jupyter": {
     "outputs_hidden": false
    },
    "tags": [
     "hide-input"
    ]
   },
   "outputs": [],
   "source": [
    "def line_function(a, b):\n",
    "    '''return a line function of the form f(x) = a + b*x'''\n",
    "    def f(x):\n",
    "        return a + b*x\n",
    "    return f\n",
    "\n",
    "def plot_constraints(*args, cfmin = -100, cfmax = 200): \n",
    "    '''Plotting helper.  This plots contract constraints \n",
    "    Accepts a variable number of lines/constraint passed as functions\n",
    "    that are then plotted on the same diagram'''\n",
    "    cf = np.linspace(cfmin, cfmax, cfmax-cfmin+1)  # plot range\n",
    "    for count, fn in enumerate(args):              \n",
    "        plt.plot(cf, fn(cf))\n",
    "    #plt.axhline(0, linestyle=':', color='black')\n",
    "    plt.axvline(0, linestyle=':', color='black')\n",
    "    plt.ylim(-10,300)                   "
   ]
  },
  {
   "cell_type": "markdown",
   "metadata": {},
   "source": []
  },
  {
   "cell_type": "code",
   "execution_count": 5,
   "metadata": {
    "collapsed": false,
    "jupyter": {
     "outputs_hidden": false
    },
    "tags": [
     "hide-input"
    ]
   },
   "outputs": [
    {
     "name": "stdout",
     "output_type": "stream",
     "text": [
      "Contract: (-A, s) = (-30.0, 70.0)\n"
     ]
    },
    {
     "data": {
      "image/png": "[encoded data removed]",
      "text/plain": [
       "<Figure size 640x480 with 1 Axes>"
      ]
     },
     "metadata": {},
     "output_type": "display_data"
    }
   ],
   "source": [
    "zeroprofit = line_function(X - I/p - F/p, -(1-p)/p)  \n",
    "ic = line_function(B/(p-q), 1)      # IC\n",
    "plot_constraints(ic, zeroprofit)\n",
    "minA = p*B/(p-q) -(p*X - gamma*I)\n",
    "\n",
    "print(f'Contract: (-A, s) = ({-minA:0.1f}, {zeroprofit(-minA):0.1f})')\n",
    "\n",
    "plt.plot(-minA, zeroprofit(-minA), marker='*')\n",
    "plt.ylim(0,300)\n",
    "\n",
    "plt.ylabel(r'$s$')\n",
    "plt.xlabel(r'$A$')\n",
    "ax = plt.gca()\n",
    "ax.spines['top'].set_visible(False)\n",
    "ax.spines['right'].set_visible(False)\n",
    "\n",
    "plt.text(100, zeroprofit(100), r'$PC(0)$')\n",
    "plt.text(110, ic(100), r'$IC$')\n",
    "plt.show();"
   ]
  },
  {
   "cell_type": "markdown",
   "metadata": {},
   "source": [
    "A limited liability constraint would appear as a vertical line (e.g. $s_f \\lt -A$).\n",
    "As drawn above the bank's zero-profit participation constraint $PC(0)$ intersects the incentive compatibility constraint $IC$ at the point\n",
    "\n",
    "$$\n",
    "s_f = - \\underbar A   \\\\\n",
    "s_s = - \\underbar A + \\frac{B}{\\Delta}\n",
    "$$"
   ]
  },
  {
   "cell_type": "markdown",
   "metadata": {},
   "source": [
    "Any borrower with assets $A$ less than $\\underbar A$ would not be able to borrow from the bank.  "
   ]
  }
 ],
 "metadata": {
  "anaconda-cloud": {},
  "kernelspec": {
   "display_name": "Python 3 (ipykernel)",
   "language": "python",
   "name": "python3"
  },
  "language_info": {
   "codemirror_mode": {
    "name": "ipython",
    "version": 3
   },
   "file_extension": ".py",
   "mimetype": "text/x-python",
   "name": "python",
   "nbconvert_exporter": "python",
   "pygments_lexer": "ipython3",
   "version": "3.11.9"
  },
  "widgets": {
   "application/vnd.jupyter.widget-state+json": {
    "state": {},
    "version_major": 2,
    "version_minor": 0
   }
  }
 },
 "nbformat": 4,
 "nbformat_minor": 4
}
